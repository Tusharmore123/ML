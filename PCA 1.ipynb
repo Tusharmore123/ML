{
 "cells": [
  {
   "cell_type": "code",
   "execution_count": 1,
   "metadata": {
    "colab": {
     "base_uri": "https://localhost:8080/"
    },
    "id": "rcKXEUxxkHgC",
    "outputId": "3d8fda9b-eb13-4f45-cf61-2d0340c9662a"
   },
   "outputs": [
    {
     "name": "stdout",
     "output_type": "stream",
     "text": [
      "[[1.  2.9]\n",
      " [0.6 0.2]\n",
      " [2.2 2.9]\n",
      " [1.4 3.1]\n",
      " [3.  3. ]\n",
      " [2.  2.8]\n",
      " [2.  1.6]\n",
      " [1.  2.1]\n",
      " [1.  1.6]\n",
      " [1.1 0.9]]\n"
     ]
    }
   ],
   "source": [
    "from numpy import array\n",
    "from numpy import mean\n",
    "from numpy import cov\n",
    "from numpy.linalg import eig\n",
    "import pandas as pd\n",
    "\n",
    "A = array([[1,2.9],\n",
    "           [0.6,0.2],\n",
    "           [2.2,2.9],\n",
    "           [1.4,3.1],\n",
    "           [3,3.0],\n",
    "           [2,2.8],\n",
    "           [2,1.6],\n",
    "           [1,2.1],\n",
    "           [1,1.6],\n",
    "           [1.1,0.9]])\n",
    "print(A)"
   ]
  },
  {
   "cell_type": "code",
   "execution_count": 2,
   "metadata": {
    "colab": {
     "base_uri": "https://localhost:8080/"
    },
    "id": "2DZVraEom7qX",
    "outputId": "36397cf7-0d65-42bd-e408-ecdfb887731d"
   },
   "outputs": [
    {
     "name": "stdout",
     "output_type": "stream",
     "text": [
      "[1.53 2.11]\n"
     ]
    }
   ],
   "source": [
    "M = mean(A.T, axis=1)\n",
    "print(M)"
   ]
  },
  {
   "cell_type": "code",
   "execution_count": 3,
   "metadata": {
    "colab": {
     "base_uri": "https://localhost:8080/"
    },
    "id": "mCgxYsMLnMLz",
    "outputId": "d56e8258-128b-4dc1-b559-99c6613af870"
   },
   "outputs": [
    {
     "name": "stdout",
     "output_type": "stream",
     "text": [
      "[[-0.53  0.79]\n",
      " [-0.93 -1.91]\n",
      " [ 0.67  0.79]\n",
      " [-0.13  0.99]\n",
      " [ 1.47  0.89]\n",
      " [ 0.47  0.69]\n",
      " [ 0.47 -0.51]\n",
      " [-0.53 -0.01]\n",
      " [-0.53 -0.51]\n",
      " [-0.43 -1.21]]\n"
     ]
    }
   ],
   "source": [
    "C = A - M\n",
    "print(C)"
   ]
  },
  {
   "cell_type": "code",
   "execution_count": 4,
   "metadata": {
    "colab": {
     "base_uri": "https://localhost:8080/"
    },
    "id": "kx9JkOBHnTbC",
    "outputId": "7009e9bf-705c-47ea-dad3-bea8a3e4f0f7"
   },
   "outputs": [
    {
     "name": "stdout",
     "output_type": "stream",
     "text": [
      "[[0.55122222 0.43855556]\n",
      " [0.43855556 1.01433333]]\n"
     ]
    }
   ],
   "source": [
    "V = cov(C.T)\n",
    "print(V)"
   ]
  },
  {
   "cell_type": "code",
   "execution_count": 5,
   "metadata": {
    "colab": {
     "base_uri": "https://localhost:8080/"
    },
    "id": "UBcIj_zBngtA",
    "outputId": "bffa06ba-4623-4077-f827-9d7252d5c2ee"
   },
   "outputs": [
    {
     "name": "stdout",
     "output_type": "stream",
     "text": [
      "[[-0.85641973 -0.5162802 ]\n",
      " [ 0.5162802  -0.85641973]]\n",
      "[0.28684537 1.27871018]\n"
     ]
    }
   ],
   "source": [
    "\n",
    "values, vectors = eig(V)\n",
    "print(vectors)\n",
    "print(values)\n"
   ]
  },
  {
   "cell_type": "code",
   "execution_count": 6,
   "metadata": {
    "colab": {
     "base_uri": "https://localhost:8080/"
    },
    "id": "9sPInkpXnpWu",
    "outputId": "2b076f22-7237-4a4d-d9ad-69e24878415f"
   },
   "outputs": [
    {
     "name": "stdout",
     "output_type": "stream",
     "text": [
      "[[ 0.86176382 -0.40294308]\n",
      " [-0.18962483  2.11590227]\n",
      " [-0.16593986 -1.02247932]\n",
      " [ 0.62245196 -0.78073911]\n",
      " [-0.79944762 -1.52114546]\n",
      " [-0.04628393 -0.83358131]\n",
      " [-0.66582018  0.19412237]\n",
      " [ 0.44873965  0.2821927 ]\n",
      " [ 0.19059955  0.71040257]\n",
      " [-0.25643856  1.25826836]]\n"
     ]
    }
   ],
   "source": [
    "P = vectors.T.dot(C.T)\n",
    "print(P.T)"
   ]
  },
  {
   "cell_type": "code",
   "execution_count": 7,
   "metadata": {
    "colab": {
     "base_uri": "https://localhost:8080/"
    },
    "id": "i3DET-4PkpJM",
    "outputId": "f889118a-510e-4184-b180-9bcda85d73ec"
   },
   "outputs": [
    {
     "name": "stdout",
     "output_type": "stream",
     "text": [
      "[[-0.5162802  -0.85641973]\n",
      " [-0.85641973  0.5162802 ]]\n",
      "[1.27871018 0.28684537]\n",
      "[[-0.40294308  0.86176382]\n",
      " [ 2.11590227 -0.18962483]\n",
      " [-1.02247932 -0.16593986]\n",
      " [-0.78073911  0.62245196]\n",
      " [-1.52114546 -0.79944762]\n",
      " [-0.83358131 -0.04628393]\n",
      " [ 0.19412237 -0.66582018]\n",
      " [ 0.2821927   0.44873965]\n",
      " [ 0.71040257  0.19059955]\n",
      " [ 1.25826836 -0.25643856]]\n"
     ]
    }
   ],
   "source": [
    "from sklearn.decomposition import PCA\n",
    "\n",
    "pca = PCA(2)\n",
    "pca.fit_transform(A)\n",
    "print(pca.components_)\n",
    "print(pca.explained_variance_)\n",
    "\n",
    "B = pca.transform(A)\n",
    "print(B)\n"
   ]
  },
  {
   "cell_type": "code",
   "execution_count": null,
   "metadata": {},
   "outputs": [],
   "source": []
  }
 ],
 "metadata": {
  "colab": {
   "collapsed_sections": [],
   "name": "pca1.ipynb",
   "provenance": []
  },
  "kernelspec": {
   "display_name": "Python 3 (ipykernel)",
   "language": "python",
   "name": "python3"
  },
  "language_info": {
   "codemirror_mode": {
    "name": "ipython",
    "version": 3
   },
   "file_extension": ".py",
   "mimetype": "text/x-python",
   "name": "python",
   "nbconvert_exporter": "python",
   "pygments_lexer": "ipython3",
   "version": "3.9.7"
  }
 },
 "nbformat": 4,
 "nbformat_minor": 4
}
