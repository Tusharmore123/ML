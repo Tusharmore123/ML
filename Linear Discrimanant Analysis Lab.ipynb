{
 "cells": [
  {
   "cell_type": "code",
   "execution_count": null,
   "metadata": {
    "colab": {
     "base_uri": "https://localhost:8080/",
     "height": 195
    },
    "id": "Ruk8L2NO2V4t",
    "outputId": "512fb832-c561-4788-f938-5cb196850e2f"
   },
   "outputs": [],
   "source": [
    "import pandas as pd\n",
    "import numpy as np\n",
    "from sklearn.preprocessing import MinMaxScaler\n",
    "from sklearn.preprocessing import  StandardScaler\n",
    "df= pd.read_csv('chd.csv')\n",
    "df.head()"
   ]
  },
  {
   "cell_type": "code",
   "execution_count": null,
   "metadata": {
    "colab": {
     "base_uri": "https://localhost:8080/",
     "height": 195
    },
    "id": "VWf4up_DnaLI",
    "outputId": "7e301b21-ea9a-4efd-a89e-146f9a876d0b"
   },
   "outputs": [
    {
     "data": {
      "text/html": [
       "<div>\n",
       "<style scoped>\n",
       "    .dataframe tbody tr th:only-of-type {\n",
       "        vertical-align: middle;\n",
       "    }\n",
       "\n",
       "    .dataframe tbody tr th {\n",
       "        vertical-align: top;\n",
       "    }\n",
       "\n",
       "    .dataframe thead th {\n",
       "        text-align: right;\n",
       "    }\n",
       "</style>\n",
       "<table border=\"1\" class=\"dataframe\">\n",
       "  <thead>\n",
       "    <tr style=\"text-align: right;\">\n",
       "      <th></th>\n",
       "      <th>AGE</th>\n",
       "      <th>CHD</th>\n",
       "    </tr>\n",
       "  </thead>\n",
       "  <tbody>\n",
       "    <tr>\n",
       "      <th>0</th>\n",
       "      <td>20</td>\n",
       "      <td>0</td>\n",
       "    </tr>\n",
       "    <tr>\n",
       "      <th>1</th>\n",
       "      <td>23</td>\n",
       "      <td>0</td>\n",
       "    </tr>\n",
       "    <tr>\n",
       "      <th>2</th>\n",
       "      <td>24</td>\n",
       "      <td>0</td>\n",
       "    </tr>\n",
       "    <tr>\n",
       "      <th>3</th>\n",
       "      <td>25</td>\n",
       "      <td>0</td>\n",
       "    </tr>\n",
       "    <tr>\n",
       "      <th>4</th>\n",
       "      <td>25</td>\n",
       "      <td>1</td>\n",
       "    </tr>\n",
       "  </tbody>\n",
       "</table>\n",
       "</div>"
      ],
      "text/plain": [
       "   AGE  CHD\n",
       "0   20    0\n",
       "1   23    0\n",
       "2   24    0\n",
       "3   25    0\n",
       "4   25    1"
      ]
     },
     "execution_count": 9,
     "metadata": {
      "tags": []
     },
     "output_type": "execute_result"
    }
   ],
   "source": [
    "df1 =df.loc[:, ['AGE', 'CHD']]\n",
    "df1.head()"
   ]
  },
  {
   "cell_type": "code",
   "execution_count": null,
   "metadata": {
    "id": "gbh86ntL22a0"
   },
   "outputs": [],
   "source": [
    "X = df1.iloc[:, :-1].values\n",
    "y = df.iloc[:, -1].values\n"
   ]
  },
  {
   "cell_type": "code",
   "execution_count": null,
   "metadata": {
    "id": "O66WTGCK4uKT"
   },
   "outputs": [],
   "source": [
    "from sklearn.discriminant_analysis import LinearDiscriminantAnalysis\n",
    "lda = LinearDiscriminantAnalysis()\n",
    "lda.fit(X, y)\n",
    "yp= lda.predict(X)\n"
   ]
  },
  {
   "cell_type": "code",
   "execution_count": null,
   "metadata": {
    "colab": {
     "base_uri": "https://localhost:8080/"
    },
    "id": "sAMO7DfV-p0M",
    "outputId": "4ab9e9be-fc92-4a07-8fa6-5022826720a3"
   },
   "outputs": [
    {
     "data": {
      "text/plain": [
       "array([-3.27093953, -2.91548011, -2.79699364, -2.67850717, -2.67850717,\n",
       "       -2.56002069, -2.56002069, -2.32304775, -2.32304775, -2.20456127,\n",
       "       -2.0860748 , -2.0860748 , -2.0860748 , -2.0860748 , -2.0860748 ,\n",
       "       -2.0860748 , -1.84910185, -1.84910185, -1.73061538, -1.73061538,\n",
       "       -1.61212891, -1.61212891, -1.61212891, -1.61212891, -1.61212891,\n",
       "       -1.49364243, -1.49364243, -1.37515596, -1.37515596, -1.37515596,\n",
       "       -1.25666949, -1.25666949, -1.25666949, -1.13818301, -1.13818301,\n",
       "       -1.01969654, -1.01969654, -0.90121007, -0.90121007, -0.78272359,\n",
       "       -0.78272359, -0.66423712, -0.66423712, -0.66423712, -0.66423712,\n",
       "       -0.54575065, -0.54575065, -0.54575065, -0.42726417, -0.42726417,\n",
       "       -0.42726417, -0.42726417, -0.3087777 , -0.3087777 , -0.19029123,\n",
       "       -0.19029123, -0.07180475, -0.07180475, -0.07180475,  0.04668172,\n",
       "        0.04668172,  0.04668172,  0.16516819,  0.16516819,  0.16516819,\n",
       "        0.28365467,  0.28365467,  0.40214114,  0.52062762,  0.52062762,\n",
       "        0.63911409,  0.63911409,  0.75760056,  0.87608704,  0.87608704,\n",
       "        0.87608704,  0.99457351,  0.99457351,  0.99457351,  1.11305998,\n",
       "        1.11305998,  1.11305998,  1.11305998,  1.11305998,  1.11305998,\n",
       "        1.23154646,  1.23154646,  1.23154646,  1.35003293,  1.35003293,\n",
       "        1.4685194 ,  1.4685194 ,  1.58700588,  1.70549235,  1.70549235,\n",
       "        1.82397882,  1.9424653 ,  1.9424653 ,  2.06095177,  2.53489766])"
      ]
     },
     "execution_count": 27,
     "metadata": {
      "tags": []
     },
     "output_type": "execute_result"
    }
   ],
   "source": [
    "\n",
    "lda.decision_function(X)\n"
   ]
  },
  {
   "cell_type": "code",
   "execution_count": null,
   "metadata": {
    "colab": {
     "base_uri": "https://localhost:8080/"
    },
    "id": "XG7Qrzq3-Cs7",
    "outputId": "10c6bb00-f6da-4053-ebeb-ce2b97996e9e"
   },
   "outputs": [
    {
     "name": "stdout",
     "output_type": "stream",
     "text": [
      "[[45 12]\n",
      " [14 29]]\n"
     ]
    }
   ],
   "source": [
    "from sklearn.metrics import confusion_matrix\n",
    "confusion_matrix = confusion_matrix(y, yp)\n",
    "print(confusion_matrix)"
   ]
  },
  {
   "cell_type": "code",
   "execution_count": null,
   "metadata": {
    "colab": {
     "base_uri": "https://localhost:8080/"
    },
    "id": "G42bVAnk9Ad7",
    "outputId": "322066c3-9707-422c-8ad3-6305d677d22f"
   },
   "outputs": [
    {
     "name": "stdout",
     "output_type": "stream",
     "text": [
      "              precision    recall  f1-score   support\n",
      "\n",
      "           0       0.76      0.79      0.78        57\n",
      "           1       0.71      0.67      0.69        43\n",
      "\n",
      "    accuracy                           0.74       100\n",
      "   macro avg       0.74      0.73      0.73       100\n",
      "weighted avg       0.74      0.74      0.74       100\n",
      "\n"
     ]
    }
   ],
   "source": [
    "from sklearn.metrics import classification_report\n",
    "print(classification_report(y, yp))"
   ]
  }
 ],
 "metadata": {
  "colab": {
   "name": "lda",
   "provenance": []
  },
  "kernelspec": {
   "display_name": "Python 3 (ipykernel)",
   "language": "python",
   "name": "python3"
  },
  "language_info": {
   "codemirror_mode": {
    "name": "ipython",
    "version": 3
   },
   "file_extension": ".py",
   "mimetype": "text/x-python",
   "name": "python",
   "nbconvert_exporter": "python",
   "pygments_lexer": "ipython3",
   "version": "3.9.7"
  }
 },
 "nbformat": 4,
 "nbformat_minor": 4
}
